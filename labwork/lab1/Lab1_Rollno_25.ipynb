{
 "cells": [
  {
   "cell_type": "code",
   "execution_count": 9,
   "metadata": {},
   "outputs": [
    {
     "name": "stdout",
     "output_type": "stream",
     "text": [
      "3600\n"
     ]
    }
   ],
   "source": [
    "# Question 2\n",
    "#(a+b+c)^2=a^2+b^2+c^2+2ab+2bc+2ac\n",
    "#Solving the LHS of the question\n",
    "import tensorflow as tf\n",
    "tf.reset_default_graph()\n",
    "with tf.name_scope(\"Values_abc\"):\n",
    "    a=tf.constant(10)\n",
    "    b=tf.constant(20)\n",
    "    c=tf.constant(30)\n",
    "with tf.name_scope(\"Squaring_abc\"): \n",
    "    x=tf.square(a)\n",
    "    y=tf.square(b)\n",
    "    z=tf.square(c)\n",
    "with tf.name_scope(\"Calculating_2ab_2bc_2ca\"):  \n",
    "    s1=tf.multiply(a,b)\n",
    "    t1=tf.multiply(2,s1)\n",
    "    s2=tf.multiply(b,c)\n",
    "    t2=tf.multiply(2,s2)\n",
    "    s3=tf.multiply(c,a)\n",
    "    t3=tf.multiply(2,s3)\n",
    "    \n",
    "with tf.name_scope(\"Adding_2ab_2bc_2ca\"):\n",
    "    t4=tf.add(t1,t2)\n",
    "    t5=tf.add(t4,t3)\n",
    "with tf.name_scope(\"Adding_squares\"):\n",
    "    t7=tf.add(x,y)\n",
    "    t6=tf.add(t7,z)\n",
    "    \n",
    "with tf.name_scope(\"Result\"):  \n",
    "    result=tf.add(t5,t6)\n",
    "\n",
    "\n",
    "\n",
    "with tf.Session() as ses2:\n",
    "    writer=tf.summary.FileWriter(\"/tmp/tboard/output300\",ses2.graph)\n",
    "    print(ses2.run(result))"
   ]
  },
  {
   "cell_type": "code",
   "execution_count": 10,
   "metadata": {},
   "outputs": [
    {
     "name": "stdout",
     "output_type": "stream",
     "text": [
      "144\n",
      "144\n"
     ]
    }
   ],
   "source": [
    "# Question 1\n",
    "#(a+b)^2=a^2+b^2+2ab\n",
    "#Solving the LHS of the question\n",
    "import tensorflow as tf\n",
    "tf.reset_default_graph()\n",
    "with tf.name_scope(\"Taking_2_inputs_xy\"):\n",
    "    x1=tf.constant(10)\n",
    "    x2=tf.constant(2)\n",
    "with tf.name_scope(\"Squaring_x\"):  \n",
    "    a=tf.square(x1)\n",
    "with tf.name_scope(\"Squaring_y\"):  \n",
    "    b=tf.square(x2)\n",
    "with tf.name_scope(\"Calculating_2xy\"):\n",
    "    c=tf.multiply(x1,x2)\n",
    "    d=tf.multiply(c,2)\n",
    "with tf.name_scope(\"Final_Answer\"):\n",
    "    res=tf.add(a,b)\n",
    "    result=tf.add(res,d)\n",
    "    \n",
    "ses=tf.Session()\n",
    "print(ses.run(result))\n",
    "\n",
    "with tf.Session() as ses:\n",
    "    writer=tf.summary.FileWriter(\"/tmp/tboard/output40\",ses.graph)\n",
    "    print(ses.run(result))"
   ]
  },
  {
   "cell_type": "code",
   "execution_count": 13,
   "metadata": {},
   "outputs": [
    {
     "name": "stdout",
     "output_type": "stream",
     "text": [
      "225\n"
     ]
    }
   ],
   "source": []
  },
  {
   "cell_type": "code",
   "execution_count": null,
   "metadata": {
    "collapsed": true
   },
   "outputs": [],
   "source": []
  }
 ],
 "metadata": {
  "kernelspec": {
   "display_name": "Python 3",
   "language": "python",
   "name": "python3"
  },
  "language_info": {
   "codemirror_mode": {
    "name": "ipython",
    "version": 3
   },
   "file_extension": ".py",
   "mimetype": "text/x-python",
   "name": "python",
   "nbconvert_exporter": "python",
   "pygments_lexer": "ipython3",
   "version": "3.6.1"
  }
 },
 "nbformat": 4,
 "nbformat_minor": 2
}
